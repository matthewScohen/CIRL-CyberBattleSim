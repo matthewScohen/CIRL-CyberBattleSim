{
 "cells": [
  {
   "cell_type": "code",
   "execution_count": 1,
   "id": "909c97d4-fa9a-4c1b-a226-80c41a20f572",
   "metadata": {},
   "outputs": [],
   "source": [
    "from cyberbattle.simulation import model as m\n",
    "from cyberbattle.simulation import actions\n",
    "from cyberbattle.simulation.model import NodeID, NodeInfo, VulnerabilityID, VulnerabilityInfo\n",
    "from typing import Dict, Iterator, cast, Tuple\n",
    "\n",
    "default_allow_rules = [\n",
    "    m.FirewallRule(\"SSH\", m.RulePermission.ALLOW),\n",
    "]\n",
    "\n",
    "# Network nodes involved in the Capture the flag game\n",
    "nodes = {\n",
    "    \"Website\": m.NodeInfo(\n",
    "        services=[\n",
    "            m.ListeningService(\"SSH\", allowedCredentials=[\n",
    "                \"ReusedMySqlCred-web\"])],\n",
    "        firewall=m.FirewallConfiguration(incoming=default_allow_rules,\n",
    "                                         outgoing=default_allow_rules + [\n",
    "                                             m.FirewallRule(\"su\", m.RulePermission.ALLOW),\n",
    "                                             m.FirewallRule(\"sudo\", m.RulePermission.ALLOW)]),\n",
    "        value=1000,\n",
    "        properties=[\"MySql\", \"Ubuntu\", \"nginx/1.10.3\"],\n",
    "        owned_string=\"FLAG: Login using insecure SSH user/password\",\n",
    "        vulnerabilities=dict(\n",
    "            ScanPageSource=m.VulnerabilityInfo(\n",
    "                description=\"Website page source contains refrence to browseable \"\n",
    "                            \"relative web directory\",\n",
    "                type=m.VulnerabilityType.REMOTE,\n",
    "                outcome=m.LeakedNodesId([\"Website.Directory\"]),\n",
    "                reward_string=\"Viewing the web page source reveals a URL to a .txt file and directory on the website\",\n",
    "                cost=1.0\n",
    "            ),\n",
    "        )),\n",
    "\n",
    "    \"Website.Directory\": m.NodeInfo(\n",
    "        services=[m.ListeningService(\"HTTPS\"), m.ListeningService(\"SSH\", allowedCredentials=[\n",
    "                \"ReusedMySqlCred-web\"])],\n",
    "        value=50,\n",
    "        properties=[\"Ubuntu\", \"nginx/1.10.3\",\n",
    "                    \"CTFFLAG:Readme.txt-Discover secret data\"\n",
    "                    ],\n",
    "        vulnerabilities=dict(\n",
    "            NavigateWebDirectoryFurther=m.VulnerabilityInfo(\n",
    "                description=\"Discover MYSQL credentials MySql for user \"\n",
    "                            \"'web' in (getting-started.txt)\",\n",
    "                type=m.VulnerabilityType.REMOTE,\n",
    "                outcome=m.LeakedCredentials(credentials=[\n",
    "                    m.CachedCredential(node=\"Website\", port=\"MySQL\",\n",
    "                                       credential=\"ReusedMySqlCred-web\")]),\n",
    "                reward_string=\"Discover browseable web directory: Navigating to parent URL revealed file `readme.txt`\"\n",
    "                              \"with secret data (aflag); and `getting-started.txt` with MYSQL credentials\",\n",
    "                cost=1.0\n",
    "            ),\n",
    "        )),\n",
    "\n",
    "\n",
    "    'client': m.NodeInfo(\n",
    "        services=[],\n",
    "        properties=[\"CLIENT:Win10\"],\n",
    "        value=0,\n",
    "        vulnerabilities=dict(\n",
    "            SearchEdgeHistory=m.VulnerabilityInfo(\n",
    "                description=\"Search web history for list of accessed websites\",\n",
    "                type=m.VulnerabilityType.LOCAL,\n",
    "                outcome=m.LeakedNodesId([\"Website\"]),\n",
    "                reward_string=\"Web browser history revealed website URL of interest\",\n",
    "                cost=1.0\n",
    "            )),\n",
    "        agent_installed=True,\n",
    "        reimagable=False),\n",
    "}\n",
    "\n",
    "global_vulnerability_library: Dict[VulnerabilityID, VulnerabilityInfo] = dict([])\n",
    "\n",
    "# Environment constants\n",
    "ENV_IDENTIFIERS = m.infer_constants_from_nodes(\n",
    "    cast(Iterator[Tuple[NodeID, NodeInfo]], list(nodes.items())),\n",
    "    global_vulnerability_library)"
   ]
  },
  {
   "cell_type": "code",
   "execution_count": 2,
   "id": "ee367230-bc7c-4728-ab08-e05a73027c34",
   "metadata": {},
   "outputs": [
    {
     "name": "stdout",
     "output_type": "stream",
     "text": [
      "['Website', 'Website.Directory', 'client']\n",
      "[('Website', 'Website.Directory'), ('client', 'Website')]\n"
     ]
    },
    {
     "data": {
      "text/plain": [
       "('client', 'Website')"
      ]
     },
     "execution_count": 2,
     "metadata": {},
     "output_type": "execute_result"
    }
   ],
   "source": [
    "import networkx as nx\n",
    "network = nx.DiGraph()\n",
    "network.add_nodes_from([(k, {'data': v}) for (k, v) in list(nodes.items())])\n",
    "network.add_edge(\"Website\", \"Website.Directory\", kind=actions.EdgeAnnotation.REMOTE_EXPLOIT)\n",
    "network.add_edge(\"client\", \"Website\", kind=actions.EdgeAnnotation.REMOTE_EXPLOIT)\n",
    "print(network.nodes)\n",
    "print(network.edges)\n",
    "(list(network.edges)[1])"
   ]
  },
  {
   "cell_type": "code",
   "execution_count": 3,
   "id": "89d33a6d-e466-4a9b-8ae8-62317269ff63",
   "metadata": {},
   "outputs": [
    {
     "data": {
      "image/png": "[encoded data removed]",
      "text/plain": [
       "<Figure size 640x480 with 1 Axes>"
      ]
     },
     "metadata": {},
     "output_type": "display_data"
    }
   ],
   "source": [
    "import cyberbattle.simulation.model as model\n",
    "import cyberbattle.simulation.commandcontrol as commandcontrol\n",
    "\n",
    "env = model.Environment(network=network, vulnerability_library=dict([]),identifiers=ENV_IDENTIFIERS)\n",
    "env.plot_environment_graph()"
   ]
  },
  {
   "cell_type": "code",
   "execution_count": 4,
   "id": "6286a50f-cb3b-44fe-82b3-3961a3657d18",
   "metadata": {},
   "outputs": [
    {
     "data": {
      "text/html": [
       "<div>\n",
       "<style scoped>\n",
       "    .dataframe tbody tr th:only-of-type {\n",
       "        vertical-align: middle;\n",
       "    }\n",
       "\n",
       "    .dataframe tbody tr th {\n",
       "        vertical-align: top;\n",
       "    }\n",
       "\n",
       "    .dataframe thead th {\n",
       "        text-align: right;\n",
       "    }\n",
       "</style>\n",
       "<table border=\"1\" class=\"dataframe\">\n",
       "  <thead>\n",
       "    <tr style=\"text-align: right;\">\n",
       "      <th></th>\n",
       "      <th>status</th>\n",
       "      <th>properties</th>\n",
       "      <th>local_attacks</th>\n",
       "      <th>remote_attacks</th>\n",
       "    </tr>\n",
       "    <tr>\n",
       "      <th>id</th>\n",
       "      <th></th>\n",
       "      <th></th>\n",
       "      <th></th>\n",
       "      <th></th>\n",
       "    </tr>\n",
       "  </thead>\n",
       "  <tbody>\n",
       "    <tr>\n",
       "      <th>client</th>\n",
       "      <td>owned</td>\n",
       "      <td>[CLIENT:Win10]</td>\n",
       "      <td>[SearchEdgeHistory]</td>\n",
       "      <td>[]</td>\n",
       "    </tr>\n",
       "  </tbody>\n",
       "</table>\n",
       "</div>"
      ],
      "text/plain": [
       "       status      properties        local_attacks remote_attacks\n",
       "id                                                               \n",
       "client  owned  [CLIENT:Win10]  [SearchEdgeHistory]             []"
      ]
     },
     "metadata": {},
     "output_type": "display_data"
    }
   ],
   "source": [
    "c2 = commandcontrol.CommandControl(env)\n",
    "dbg = commandcontrol.EnvironmentDebugging(c2)\n",
    "c2.print_all_attacks()"
   ]
  },
  {
   "cell_type": "code",
   "execution_count": 5,
   "id": "ffb1f2aa-dbb5-4cbd-9d4b-54d7107ba63a",
   "metadata": {},
   "outputs": [
    {
     "name": "stdout",
     "output_type": "stream",
     "text": [
      "<cyberbattle.simulation.model.LeakedNodesId object at 0x7fd7d6d29820>\n"
     ]
    },
    {
     "data": {
      "text/html": [
       "<div>\n",
       "<style scoped>\n",
       "    .dataframe tbody tr th:only-of-type {\n",
       "        vertical-align: middle;\n",
       "    }\n",
       "\n",
       "    .dataframe tbody tr th {\n",
       "        vertical-align: top;\n",
       "    }\n",
       "\n",
       "    .dataframe thead th {\n",
       "        text-align: right;\n",
       "    }\n",
       "</style>\n",
       "<table border=\"1\" class=\"dataframe\">\n",
       "  <thead>\n",
       "    <tr style=\"text-align: right;\">\n",
       "      <th></th>\n",
       "      <th>status</th>\n",
       "      <th>properties</th>\n",
       "      <th>local_attacks</th>\n",
       "      <th>remote_attacks</th>\n",
       "    </tr>\n",
       "    <tr>\n",
       "      <th>id</th>\n",
       "      <th></th>\n",
       "      <th></th>\n",
       "      <th></th>\n",
       "      <th></th>\n",
       "    </tr>\n",
       "  </thead>\n",
       "  <tbody>\n",
       "    <tr>\n",
       "      <th>client</th>\n",
       "      <td>owned</td>\n",
       "      <td>[CLIENT:Win10]</td>\n",
       "      <td>[SearchEdgeHistory]</td>\n",
       "      <td>[]</td>\n",
       "    </tr>\n",
       "    <tr>\n",
       "      <th>Website</th>\n",
       "      <td>discovered</td>\n",
       "      <td>NaN</td>\n",
       "      <td>None</td>\n",
       "      <td>[ScanPageSource]</td>\n",
       "    </tr>\n",
       "  </tbody>\n",
       "</table>\n",
       "</div>"
      ],
      "text/plain": [
       "             status      properties        local_attacks    remote_attacks\n",
       "id                                                                        \n",
       "client        owned  [CLIENT:Win10]  [SearchEdgeHistory]                []\n",
       "Website  discovered             NaN                 None  [ScanPageSource]"
      ]
     },
     "metadata": {},
     "output_type": "display_data"
    }
   ],
   "source": [
    "# Discover website\n",
    "outcome = c2.run_attack('client', 'SearchEdgeHistory')\n",
    "print(outcome)\n",
    "c2.print_all_attacks()"
   ]
  },
  {
   "cell_type": "code",
   "execution_count": 6,
   "id": "3fdbb0f6-23c4-4f7b-b146-9919e95d3dc0",
   "metadata": {},
   "outputs": [
    {
     "name": "stdout",
     "output_type": "stream",
     "text": [
      "<cyberbattle.simulation.model.LeakedNodesId object at 0x7fd7d6d29640>\n"
     ]
    },
    {
     "data": {
      "text/html": [
       "<div>\n",
       "<style scoped>\n",
       "    .dataframe tbody tr th:only-of-type {\n",
       "        vertical-align: middle;\n",
       "    }\n",
       "\n",
       "    .dataframe tbody tr th {\n",
       "        vertical-align: top;\n",
       "    }\n",
       "\n",
       "    .dataframe thead th {\n",
       "        text-align: right;\n",
       "    }\n",
       "</style>\n",
       "<table border=\"1\" class=\"dataframe\">\n",
       "  <thead>\n",
       "    <tr style=\"text-align: right;\">\n",
       "      <th></th>\n",
       "      <th>status</th>\n",
       "      <th>properties</th>\n",
       "      <th>local_attacks</th>\n",
       "      <th>remote_attacks</th>\n",
       "    </tr>\n",
       "    <tr>\n",
       "      <th>id</th>\n",
       "      <th></th>\n",
       "      <th></th>\n",
       "      <th></th>\n",
       "      <th></th>\n",
       "    </tr>\n",
       "  </thead>\n",
       "  <tbody>\n",
       "    <tr>\n",
       "      <th>client</th>\n",
       "      <td>owned</td>\n",
       "      <td>[CLIENT:Win10]</td>\n",
       "      <td>[SearchEdgeHistory]</td>\n",
       "      <td>[]</td>\n",
       "    </tr>\n",
       "    <tr>\n",
       "      <th>Website</th>\n",
       "      <td>discovered</td>\n",
       "      <td>NaN</td>\n",
       "      <td>None</td>\n",
       "      <td>[ScanPageSource]</td>\n",
       "    </tr>\n",
       "    <tr>\n",
       "      <th>Website.Directory</th>\n",
       "      <td>discovered</td>\n",
       "      <td>NaN</td>\n",
       "      <td>None</td>\n",
       "      <td>[NavigateWebDirectoryFurther]</td>\n",
       "    </tr>\n",
       "  </tbody>\n",
       "</table>\n",
       "</div>"
      ],
      "text/plain": [
       "                       status      properties        local_attacks  \\\n",
       "id                                                                   \n",
       "client                  owned  [CLIENT:Win10]  [SearchEdgeHistory]   \n",
       "Website            discovered             NaN                 None   \n",
       "Website.Directory  discovered             NaN                 None   \n",
       "\n",
       "                                  remote_attacks  \n",
       "id                                                \n",
       "client                                        []  \n",
       "Website                         [ScanPageSource]  \n",
       "Website.Directory  [NavigateWebDirectoryFurther]  "
      ]
     },
     "metadata": {},
     "output_type": "display_data"
    }
   ],
   "source": [
    "# Discover Website.Directory\n",
    "outcome = c2.run_remote_attack('client', 'Website', 'ScanPageSource')\n",
    "print(outcome)\n",
    "c2.print_all_attacks()"
   ]
  },
  {
   "cell_type": "code",
   "execution_count": 7,
   "id": "e7888a7d-499a-44ee-9b67-dc4ee057bd9a",
   "metadata": {},
   "outputs": [
    {
     "name": "stdout",
     "output_type": "stream",
     "text": [
      "<cyberbattle.simulation.model.LeakedCredentials object at 0x7fd7d6d29790>\n",
      "{CachedCredential(node='Website', port='MySQL', credential='ReusedMySqlCred-web')}\n"
     ]
    },
    {
     "data": {
      "text/html": [
       "<div>\n",
       "<style scoped>\n",
       "    .dataframe tbody tr th:only-of-type {\n",
       "        vertical-align: middle;\n",
       "    }\n",
       "\n",
       "    .dataframe tbody tr th {\n",
       "        vertical-align: top;\n",
       "    }\n",
       "\n",
       "    .dataframe thead th {\n",
       "        text-align: right;\n",
       "    }\n",
       "</style>\n",
       "<table border=\"1\" class=\"dataframe\">\n",
       "  <thead>\n",
       "    <tr style=\"text-align: right;\">\n",
       "      <th></th>\n",
       "      <th>status</th>\n",
       "      <th>properties</th>\n",
       "      <th>local_attacks</th>\n",
       "      <th>remote_attacks</th>\n",
       "    </tr>\n",
       "    <tr>\n",
       "      <th>id</th>\n",
       "      <th></th>\n",
       "      <th></th>\n",
       "      <th></th>\n",
       "      <th></th>\n",
       "    </tr>\n",
       "  </thead>\n",
       "  <tbody>\n",
       "    <tr>\n",
       "      <th>client</th>\n",
       "      <td>owned</td>\n",
       "      <td>[CLIENT:Win10]</td>\n",
       "      <td>[SearchEdgeHistory]</td>\n",
       "      <td>[]</td>\n",
       "    </tr>\n",
       "    <tr>\n",
       "      <th>Website</th>\n",
       "      <td>discovered</td>\n",
       "      <td>NaN</td>\n",
       "      <td>None</td>\n",
       "      <td>[ScanPageSource]</td>\n",
       "    </tr>\n",
       "    <tr>\n",
       "      <th>Website.Directory</th>\n",
       "      <td>discovered</td>\n",
       "      <td>NaN</td>\n",
       "      <td>None</td>\n",
       "      <td>[NavigateWebDirectoryFurther]</td>\n",
       "    </tr>\n",
       "  </tbody>\n",
       "</table>\n",
       "</div>"
      ],
      "text/plain": [
       "                       status      properties        local_attacks  \\\n",
       "id                                                                   \n",
       "client                  owned  [CLIENT:Win10]  [SearchEdgeHistory]   \n",
       "Website            discovered             NaN                 None   \n",
       "Website.Directory  discovered             NaN                 None   \n",
       "\n",
       "                                  remote_attacks  \n",
       "id                                                \n",
       "client                                        []  \n",
       "Website                         [ScanPageSource]  \n",
       "Website.Directory  [NavigateWebDirectoryFurther]  "
      ]
     },
     "metadata": {},
     "output_type": "display_data"
    }
   ],
   "source": [
    "# Leak credential from Website.Directory that can be used to connect to Website and Website.Directory\n",
    "outcome = c2.run_remote_attack('client', 'Website.Directory', 'NavigateWebDirectoryFurther')\n",
    "print(outcome)\n",
    "print(c2.credentials_gathered_so_far)\n",
    "c2.print_all_attacks()"
   ]
  },
  {
   "cell_type": "code",
   "execution_count": 8,
   "id": "ffc89328-d7b7-46c7-8dda-1c013a7c7433",
   "metadata": {},
   "outputs": [
    {
     "ename": "ValueError",
     "evalue": "Agent does not owned the source node 'Website'",
     "output_type": "error",
     "traceback": [
      "\u001b[0;31m---------------------------------------------------------------------------\u001b[0m",
      "\u001b[0;31mValueError\u001b[0m                                Traceback (most recent call last)",
      "Cell \u001b[0;32mIn [8], line 2\u001b[0m\n\u001b[1;32m      1\u001b[0m \u001b[38;5;66;03m# This fails here because Website is not owned\u001b[39;00m\n\u001b[0;32m----> 2\u001b[0m \u001b[43mc2\u001b[49m\u001b[38;5;241;43m.\u001b[39;49m\u001b[43mconnect_and_infect\u001b[49m\u001b[43m(\u001b[49m\u001b[38;5;124;43m'\u001b[39;49m\u001b[38;5;124;43mWebsite\u001b[39;49m\u001b[38;5;124;43m'\u001b[39;49m\u001b[43m,\u001b[49m\u001b[43m \u001b[49m\u001b[38;5;124;43m'\u001b[39;49m\u001b[38;5;124;43mWebsite.Directory\u001b[39;49m\u001b[38;5;124;43m'\u001b[39;49m\u001b[43m,\u001b[49m\u001b[43m \u001b[49m\u001b[38;5;124;43m'\u001b[39;49m\u001b[38;5;124;43mSSH\u001b[39;49m\u001b[38;5;124;43m'\u001b[39;49m\u001b[43m,\u001b[49m\u001b[43m \u001b[49m\u001b[38;5;124;43m'\u001b[39;49m\u001b[38;5;124;43mReusedMySqlCred-web\u001b[39;49m\u001b[38;5;124;43m'\u001b[39;49m\u001b[43m)\u001b[49m\n\u001b[1;32m      3\u001b[0m c2\u001b[38;5;241m.\u001b[39mprint_all_attacks()\n",
      "File \u001b[0;32m~/CIRL-CyberBattleSim/cyberbattle/simulation/commandcontrol.py:136\u001b[0m, in \u001b[0;36mCommandControl.connect_and_infect\u001b[0;34m(self, source_node_id, target_node_id, port_name, credentials)\u001b[0m\n\u001b[1;32m    130\u001b[0m \u001b[38;5;28;01mdef\u001b[39;00m \u001b[38;5;21mconnect_and_infect\u001b[39m(\u001b[38;5;28mself\u001b[39m, source_node_id: model\u001b[38;5;241m.\u001b[39mNodeID,\n\u001b[1;32m    131\u001b[0m                        target_node_id: model\u001b[38;5;241m.\u001b[39mNodeID,\n\u001b[1;32m    132\u001b[0m                        port_name: model\u001b[38;5;241m.\u001b[39mPortName,\n\u001b[1;32m    133\u001b[0m                        credentials: model\u001b[38;5;241m.\u001b[39mCredentialID) \u001b[38;5;241m-\u001b[39m\u001b[38;5;241m>\u001b[39m \u001b[38;5;28mbool\u001b[39m:\n\u001b[1;32m    134\u001b[0m     \u001b[38;5;124;03m\"\"\"Install the agent on a remote machine using the\u001b[39;00m\n\u001b[1;32m    135\u001b[0m \u001b[38;5;124;03m     provided credentials\"\"\"\u001b[39;00m\n\u001b[0;32m--> 136\u001b[0m     result \u001b[38;5;241m=\u001b[39m \u001b[38;5;28;43mself\u001b[39;49m\u001b[38;5;241;43m.\u001b[39;49m\u001b[43m_actuator\u001b[49m\u001b[38;5;241;43m.\u001b[39;49m\u001b[43mconnect_to_remote_machine\u001b[49m\u001b[43m(\u001b[49m\u001b[43msource_node_id\u001b[49m\u001b[43m,\u001b[49m\u001b[43m \u001b[49m\u001b[43mtarget_node_id\u001b[49m\u001b[43m,\u001b[49m\u001b[43m \u001b[49m\u001b[43mport_name\u001b[49m\u001b[43m,\u001b[49m\n\u001b[1;32m    137\u001b[0m \u001b[43m                                                      \u001b[49m\u001b[43mcredentials\u001b[49m\u001b[43m)\u001b[49m\n\u001b[1;32m    138\u001b[0m     \u001b[38;5;28mself\u001b[39m\u001b[38;5;241m.\u001b[39m__accumulate_reward(result\u001b[38;5;241m.\u001b[39mreward)\n\u001b[1;32m    139\u001b[0m     \u001b[38;5;28;01mreturn\u001b[39;00m result\u001b[38;5;241m.\u001b[39moutcome \u001b[38;5;129;01mis\u001b[39;00m \u001b[38;5;129;01mnot\u001b[39;00m \u001b[38;5;28;01mNone\u001b[39;00m\n",
      "File \u001b[0;32m~/CIRL-CyberBattleSim/cyberbattle/simulation/actions.py:526\u001b[0m, in \u001b[0;36mAgentActions.connect_to_remote_machine\u001b[0;34m(self, source_node_id, target_node_id, port_name, credential)\u001b[0m\n\u001b[1;32m    524\u001b[0m \u001b[38;5;28;01mif\u001b[39;00m \u001b[38;5;129;01mnot\u001b[39;00m source_node\u001b[38;5;241m.\u001b[39magent_installed:\n\u001b[1;32m    525\u001b[0m     \u001b[38;5;28;01mif\u001b[39;00m \u001b[38;5;28mself\u001b[39m\u001b[38;5;241m.\u001b[39m_throws_on_invalid_actions:\n\u001b[0;32m--> 526\u001b[0m         \u001b[38;5;28;01mraise\u001b[39;00m \u001b[38;5;167;01mValueError\u001b[39;00m(\u001b[38;5;124mf\u001b[39m\u001b[38;5;124m\"\u001b[39m\u001b[38;5;124mAgent does not owned the source node \u001b[39m\u001b[38;5;124m'\u001b[39m\u001b[38;5;132;01m{\u001b[39;00msource_node_id\u001b[38;5;132;01m}\u001b[39;00m\u001b[38;5;124m'\u001b[39m\u001b[38;5;124m\"\u001b[39m)\n\u001b[1;32m    527\u001b[0m     \u001b[38;5;28;01melse\u001b[39;00m:\n\u001b[1;32m    528\u001b[0m         \u001b[38;5;28;01mreturn\u001b[39;00m ActionResult(reward\u001b[38;5;241m=\u001b[39mPenalty\u001b[38;5;241m.\u001b[39mINVALID_ACTION, outcome\u001b[38;5;241m=\u001b[39m\u001b[38;5;28;01mNone\u001b[39;00m)\n",
      "\u001b[0;31mValueError\u001b[0m: Agent does not owned the source node 'Website'"
     ]
    }
   ],
   "source": [
    "# This fails here because Website is not owned\n",
    "c2.connect_and_infect('Website', 'Website.Directory', 'SSH', 'ReusedMySqlCred-web')\n",
    "c2.print_all_attacks()"
   ]
  },
  {
   "cell_type": "code",
   "execution_count": 9,
   "id": "5c590bb5-d6f7-40a8-a79b-6d8571566880",
   "metadata": {},
   "outputs": [
    {
     "data": {
      "text/html": [
       "<div>\n",
       "<style scoped>\n",
       "    .dataframe tbody tr th:only-of-type {\n",
       "        vertical-align: middle;\n",
       "    }\n",
       "\n",
       "    .dataframe tbody tr th {\n",
       "        vertical-align: top;\n",
       "    }\n",
       "\n",
       "    .dataframe thead th {\n",
       "        text-align: right;\n",
       "    }\n",
       "</style>\n",
       "<table border=\"1\" class=\"dataframe\">\n",
       "  <thead>\n",
       "    <tr style=\"text-align: right;\">\n",
       "      <th></th>\n",
       "      <th>status</th>\n",
       "      <th>properties</th>\n",
       "      <th>local_attacks</th>\n",
       "      <th>remote_attacks</th>\n",
       "    </tr>\n",
       "    <tr>\n",
       "      <th>id</th>\n",
       "      <th></th>\n",
       "      <th></th>\n",
       "      <th></th>\n",
       "      <th></th>\n",
       "    </tr>\n",
       "  </thead>\n",
       "  <tbody>\n",
       "    <tr>\n",
       "      <th>client</th>\n",
       "      <td>owned</td>\n",
       "      <td>[CLIENT:Win10]</td>\n",
       "      <td>[SearchEdgeHistory]</td>\n",
       "      <td>[]</td>\n",
       "    </tr>\n",
       "    <tr>\n",
       "      <th>Website</th>\n",
       "      <td>owned</td>\n",
       "      <td>[MySql, Ubuntu, nginx/1.10.3]</td>\n",
       "      <td>[]</td>\n",
       "      <td>[ScanPageSource]</td>\n",
       "    </tr>\n",
       "    <tr>\n",
       "      <th>Website.Directory</th>\n",
       "      <td>discovered</td>\n",
       "      <td>NaN</td>\n",
       "      <td>None</td>\n",
       "      <td>[NavigateWebDirectoryFurther]</td>\n",
       "    </tr>\n",
       "  </tbody>\n",
       "</table>\n",
       "</div>"
      ],
      "text/plain": [
       "                       status                     properties  \\\n",
       "id                                                             \n",
       "client                  owned                 [CLIENT:Win10]   \n",
       "Website                 owned  [MySql, Ubuntu, nginx/1.10.3]   \n",
       "Website.Directory  discovered                            NaN   \n",
       "\n",
       "                         local_attacks                 remote_attacks  \n",
       "id                                                                     \n",
       "client             [SearchEdgeHistory]                             []  \n",
       "Website                             []               [ScanPageSource]  \n",
       "Website.Directory                 None  [NavigateWebDirectoryFurther]  "
      ]
     },
     "metadata": {},
     "output_type": "display_data"
    }
   ],
   "source": [
    "# This gives the agent ownership of website\n",
    "c2.connect_and_infect('client', 'Website', 'SSH', 'ReusedMySqlCred-web')\n",
    "c2.print_all_attacks()"
   ]
  },
  {
   "cell_type": "code",
   "execution_count": 10,
   "id": "df593a51-57ad-465c-90f8-9516d2c1b513",
   "metadata": {},
   "outputs": [
    {
     "ename": "ValueError",
     "evalue": "No edge in network from client to Website.Directory",
     "output_type": "error",
     "traceback": [
      "\u001b[0;31m---------------------------------------------------------------------------\u001b[0m",
      "\u001b[0;31mValueError\u001b[0m                                Traceback (most recent call last)",
      "Cell \u001b[0;32mIn [10], line 2\u001b[0m\n\u001b[1;32m      1\u001b[0m \u001b[38;5;66;03m# This fails because client is not connected to Website.Directory\u001b[39;00m\n\u001b[0;32m----> 2\u001b[0m \u001b[43mc2\u001b[49m\u001b[38;5;241;43m.\u001b[39;49m\u001b[43mconnect_and_infect\u001b[49m\u001b[43m(\u001b[49m\u001b[38;5;124;43m'\u001b[39;49m\u001b[38;5;124;43mclient\u001b[39;49m\u001b[38;5;124;43m'\u001b[39;49m\u001b[43m,\u001b[49m\u001b[43m \u001b[49m\u001b[38;5;124;43m'\u001b[39;49m\u001b[38;5;124;43mWebsite.Directory\u001b[39;49m\u001b[38;5;124;43m'\u001b[39;49m\u001b[43m,\u001b[49m\u001b[43m \u001b[49m\u001b[38;5;124;43m'\u001b[39;49m\u001b[38;5;124;43mSSH\u001b[39;49m\u001b[38;5;124;43m'\u001b[39;49m\u001b[43m,\u001b[49m\u001b[43m \u001b[49m\u001b[38;5;124;43m'\u001b[39;49m\u001b[38;5;124;43mReusedMySqlCred-web\u001b[39;49m\u001b[38;5;124;43m'\u001b[39;49m\u001b[43m)\u001b[49m\n\u001b[1;32m      3\u001b[0m c2\u001b[38;5;241m.\u001b[39mprint_all_attacks()\n",
      "File \u001b[0;32m~/CIRL-CyberBattleSim/cyberbattle/simulation/commandcontrol.py:136\u001b[0m, in \u001b[0;36mCommandControl.connect_and_infect\u001b[0;34m(self, source_node_id, target_node_id, port_name, credentials)\u001b[0m\n\u001b[1;32m    130\u001b[0m \u001b[38;5;28;01mdef\u001b[39;00m \u001b[38;5;21mconnect_and_infect\u001b[39m(\u001b[38;5;28mself\u001b[39m, source_node_id: model\u001b[38;5;241m.\u001b[39mNodeID,\n\u001b[1;32m    131\u001b[0m                        target_node_id: model\u001b[38;5;241m.\u001b[39mNodeID,\n\u001b[1;32m    132\u001b[0m                        port_name: model\u001b[38;5;241m.\u001b[39mPortName,\n\u001b[1;32m    133\u001b[0m                        credentials: model\u001b[38;5;241m.\u001b[39mCredentialID) \u001b[38;5;241m-\u001b[39m\u001b[38;5;241m>\u001b[39m \u001b[38;5;28mbool\u001b[39m:\n\u001b[1;32m    134\u001b[0m     \u001b[38;5;124;03m\"\"\"Install the agent on a remote machine using the\u001b[39;00m\n\u001b[1;32m    135\u001b[0m \u001b[38;5;124;03m     provided credentials\"\"\"\u001b[39;00m\n\u001b[0;32m--> 136\u001b[0m     result \u001b[38;5;241m=\u001b[39m \u001b[38;5;28;43mself\u001b[39;49m\u001b[38;5;241;43m.\u001b[39;49m\u001b[43m_actuator\u001b[49m\u001b[38;5;241;43m.\u001b[39;49m\u001b[43mconnect_to_remote_machine\u001b[49m\u001b[43m(\u001b[49m\u001b[43msource_node_id\u001b[49m\u001b[43m,\u001b[49m\u001b[43m \u001b[49m\u001b[43mtarget_node_id\u001b[49m\u001b[43m,\u001b[49m\u001b[43m \u001b[49m\u001b[43mport_name\u001b[49m\u001b[43m,\u001b[49m\n\u001b[1;32m    137\u001b[0m \u001b[43m                                                      \u001b[49m\u001b[43mcredentials\u001b[49m\u001b[43m)\u001b[49m\n\u001b[1;32m    138\u001b[0m     \u001b[38;5;28mself\u001b[39m\u001b[38;5;241m.\u001b[39m__accumulate_reward(result\u001b[38;5;241m.\u001b[39mreward)\n\u001b[1;32m    139\u001b[0m     \u001b[38;5;28;01mreturn\u001b[39;00m result\u001b[38;5;241m.\u001b[39moutcome \u001b[38;5;129;01mis\u001b[39;00m \u001b[38;5;129;01mnot\u001b[39;00m \u001b[38;5;28;01mNone\u001b[39;00m\n",
      "File \u001b[0;32m~/CIRL-CyberBattleSim/cyberbattle/simulation/actions.py:517\u001b[0m, in \u001b[0;36mAgentActions.connect_to_remote_machine\u001b[0;34m(self, source_node_id, target_node_id, port_name, credential)\u001b[0m\n\u001b[1;32m    515\u001b[0m \u001b[38;5;28;01mif\u001b[39;00m \u001b[38;5;129;01mnot\u001b[39;00m (source_node_id, target_node_id) \u001b[38;5;129;01min\u001b[39;00m graph\u001b[38;5;241m.\u001b[39medges:\n\u001b[1;32m    516\u001b[0m     \u001b[38;5;28;01mif\u001b[39;00m \u001b[38;5;28mself\u001b[39m\u001b[38;5;241m.\u001b[39m_throws_on_invalid_actions:\n\u001b[0;32m--> 517\u001b[0m         \u001b[38;5;28;01mraise\u001b[39;00m \u001b[38;5;167;01mValueError\u001b[39;00m(\u001b[38;5;124mf\u001b[39m\u001b[38;5;124m\"\u001b[39m\u001b[38;5;124mNo edge in network from \u001b[39m\u001b[38;5;132;01m{\u001b[39;00msource_node_id\u001b[38;5;132;01m}\u001b[39;00m\u001b[38;5;124m to \u001b[39m\u001b[38;5;132;01m{\u001b[39;00mtarget_node_id\u001b[38;5;132;01m}\u001b[39;00m\u001b[38;5;124m\"\u001b[39m)\n\u001b[1;32m    518\u001b[0m     \u001b[38;5;28;01melse\u001b[39;00m:\n\u001b[1;32m    519\u001b[0m         \u001b[38;5;28;01mreturn\u001b[39;00m ActionResult(reward\u001b[38;5;241m=\u001b[39mPenalty\u001b[38;5;241m.\u001b[39mINVALID_ACTION, outcome\u001b[38;5;241m=\u001b[39m\u001b[38;5;28;01mNone\u001b[39;00m)\n",
      "\u001b[0;31mValueError\u001b[0m: No edge in network from client to Website.Directory"
     ]
    }
   ],
   "source": [
    "# This fails because client is not connected to Website.Directory\n",
    "c2.connect_and_infect('client', 'Website.Directory', 'SSH', 'ReusedMySqlCred-web')\n",
    "c2.print_all_attacks()"
   ]
  },
  {
   "cell_type": "code",
   "execution_count": 11,
   "id": "32896faa-b2c0-407b-96d7-ec5a3d60fb7b",
   "metadata": {},
   "outputs": [
    {
     "data": {
      "text/html": [
       "<div>\n",
       "<style scoped>\n",
       "    .dataframe tbody tr th:only-of-type {\n",
       "        vertical-align: middle;\n",
       "    }\n",
       "\n",
       "    .dataframe tbody tr th {\n",
       "        vertical-align: top;\n",
       "    }\n",
       "\n",
       "    .dataframe thead th {\n",
       "        text-align: right;\n",
       "    }\n",
       "</style>\n",
       "<table border=\"1\" class=\"dataframe\">\n",
       "  <thead>\n",
       "    <tr style=\"text-align: right;\">\n",
       "      <th></th>\n",
       "      <th>status</th>\n",
       "      <th>properties</th>\n",
       "      <th>local_attacks</th>\n",
       "      <th>remote_attacks</th>\n",
       "    </tr>\n",
       "    <tr>\n",
       "      <th>id</th>\n",
       "      <th></th>\n",
       "      <th></th>\n",
       "      <th></th>\n",
       "      <th></th>\n",
       "    </tr>\n",
       "  </thead>\n",
       "  <tbody>\n",
       "    <tr>\n",
       "      <th>client</th>\n",
       "      <td>owned</td>\n",
       "      <td>[CLIENT:Win10]</td>\n",
       "      <td>[SearchEdgeHistory]</td>\n",
       "      <td>[]</td>\n",
       "    </tr>\n",
       "    <tr>\n",
       "      <th>Website</th>\n",
       "      <td>owned</td>\n",
       "      <td>[MySql, Ubuntu, nginx/1.10.3]</td>\n",
       "      <td>[]</td>\n",
       "      <td>[ScanPageSource]</td>\n",
       "    </tr>\n",
       "    <tr>\n",
       "      <th>Website.Directory</th>\n",
       "      <td>owned</td>\n",
       "      <td>[Ubuntu, nginx/1.10.3, CTFFLAG:Readme.txt-Disc...</td>\n",
       "      <td>[]</td>\n",
       "      <td>[NavigateWebDirectoryFurther]</td>\n",
       "    </tr>\n",
       "  </tbody>\n",
       "</table>\n",
       "</div>"
      ],
      "text/plain": [
       "                  status                                         properties  \\\n",
       "id                                                                            \n",
       "client             owned                                     [CLIENT:Win10]   \n",
       "Website            owned                      [MySql, Ubuntu, nginx/1.10.3]   \n",
       "Website.Directory  owned  [Ubuntu, nginx/1.10.3, CTFFLAG:Readme.txt-Disc...   \n",
       "\n",
       "                         local_attacks                 remote_attacks  \n",
       "id                                                                     \n",
       "client             [SearchEdgeHistory]                             []  \n",
       "Website                             []               [ScanPageSource]  \n",
       "Website.Directory                   []  [NavigateWebDirectoryFurther]  "
      ]
     },
     "metadata": {},
     "output_type": "display_data"
    }
   ],
   "source": [
    "# This succeeds now because the agent owns website and Website is connected to Website.Directory\n",
    "c2.connect_and_infect('Website', 'Website.Directory', 'SSH', 'ReusedMySqlCred-web')\n",
    "c2.print_all_attacks()"
   ]
  }
 ],
 "metadata": {
  "kernelspec": {
   "display_name": "CIRL-cyberbattlesim-env",
   "language": "python",
   "name": "cirl-cyberbattlesim-env"
  },
  "language_info": {
   "codemirror_mode": {
    "name": "ipython",
    "version": 3
   },
   "file_extension": ".py",
   "mimetype": "text/x-python",
   "name": "python",
   "nbconvert_exporter": "python",
   "pygments_lexer": "ipython3",
   "version": "3.9.5"
  }
 },
 "nbformat": 4,
 "nbformat_minor": 5
}
